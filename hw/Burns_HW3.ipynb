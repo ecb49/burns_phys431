{
 "cells": [
  {
   "cell_type": "markdown",
   "metadata": {},
   "source": [
    "Elijah Burns <br/>\n",
    "Phys 434 <br/>\n",
    "Homework 3"
   ]
  },
  {
   "cell_type": "markdown",
   "metadata": {},
   "source": [
    "**Problem1**<br/> \n",
    "<br/>\n",
    "**We're going to briefly look at truth tables. As an example let's assume we have a 100 photos, some of birds and some of people. In a truth table you assume you can categorize the true answer—let's say you pay an undergraduate to sort the photos into birds and people. Then you want to have an automated sorting algorithm. However that works, whether it is by looking a the color at the center of photo or using a neural network (NN), it will also sort the photos but imperfectly. Given two sorts you can then arrange a truth table:**\n",
    "<br/>\n",
    "\n",
    "|  | True Bird | True Person |\n",
    "| --- | --- | --- |\n",
    "| NN Bird | 45 | 5 |\n",
    "| NN Person | 3 | 47 |\n",
    "\n",
    "**There are 48 birds and 52 People (columns), and there are 8 miscategorizations. The NN called three of the birds people, and 5 of the people birds.**\n",
    "\n",
    "**This is useful because it not only shows the number of errors, but the type, and not all errors are created equal. Let's say our identification system is being used to keep birds from escaping the aviary at the zoo by locking the aviary door when a bird is trying to escape. We really don't want to let birds escape, but locking a person in for 30 extra seconds is not a big deal. In this case false bird identification is not so bad, but false person identification lets a bird escape.**\n",
    "\n",
    "**Let's say the above truth table is the current system, and you've developed a new algorithm (NA) with the following truth table:**\n",
    "<br/>\n",
    "\n",
    "|  | True Bird | True Person |\n",
    "| --- | --- | --- |\n",
    "| NA Bird | 47 | 11 |\n",
    "| NA Person | 1 | 42 |\n",
    "\n",
    "**1a) Which algorithm makes the fewest mistakes?**\n",
    "\n",
    "**1b) Which algorithm is better for the zoo? Explain.**\n",
    "\n",
    "**1c) During the pandemic the number of visitors plummets, and it is only the zoo keeper visiting. So instead of 52% of the photos taken at the aviary door being people, it is now only 1%. Make new truth tables for both algorithms.**"
   ]
  },
  {
   "cell_type": "markdown",
   "metadata": {},
   "source": [
    "Answer Part 1a): <br/>\n",
    "The original algorithm, the NN algorithm, makes the fewest mistakes. It mistakes 5 people for birds, and 3 birds for people, for a total of 8 mistakes. <br/>\n",
    "<br/>\n",
    "The new algorithm, NA, on the other hand misakes 11 people for birds, and 1 bird for a person, for a total of 12 mistakes. So the NN algorithm makes fewer mistakes."
   ]
  },
  {
   "cell_type": "markdown",
   "metadata": {},
   "source": [
    "Answer Part 1b): <br/>\n",
    "The second algorithm, NA, is better for the zoo. As the question states, if the algorithm mistakes a person for a bird, that is no big deal because it will lock the door on the person, but the door can be easily unlocked and the person can leave. However, if the algorithm mistakes a bird for a person, the bird will be able to escape, and it will not be easy to get the bird back into the aviary. <br/>\n",
    "<br/>\n",
    "While the second algorithm does make more mistakes, it mistakes far more people for birds which is not a big deal. It only mistook 1 bird for a person whereas the first algorithm mistook 3 birds for people, so the second algorithm would result in less birds escaping which would be better for the zoo."
   ]
  },
  {
   "cell_type": "markdown",
   "metadata": {},
   "source": [
    "Answer Part 1c): <br/>\n",
    "For this exercise, I will assume the number of mistakes of birds for people or people for birds is proportional to the original algorithms. So for example if only 1% of the photos show people, the number of people mistaken for birds, x, using the original algorithm will be <br/>\n",
    "\\begin{equation*}\n",
    "\\frac{5}{52} = \\frac{x}{1} \\\\\n",
    "\\end{equation*}\n",
    "<br/>\n",
    "<br/>\n",
    "And the tables are the following. Note: because of the nature of fractions, x will be rounded to the nearest integer.\n",
    "<br/>\n",
    "NN Table: <br/>\n",
    "\n",
    "|  | True Bird | True Person |\n",
    "| --- | --- | --- |\n",
    "| NN Bird | 93 | 0 |\n",
    "| NN Person | 6 | 1 |\n",
    "\n",
    "<br/>\n",
    "\n",
    "<br/>\n",
    "\n",
    "NA Table: <br/>\n",
    "\n",
    "|  | True Bird | True Person |\n",
    "| --- | --- | --- |\n",
    "| NA Bird | 97 | 0 |\n",
    "| NA Person | 2 | 1 |\n"
   ]
  },
  {
   "cell_type": "markdown",
   "metadata": {},
   "source": [
    "**Problem 2** <br/>\n",
    "<br/>\n",
    "**In the last lab we explored how to numerically calculate the pdf of a summed or averaged observation through repeated convolutions. But sometimes the convolution has an analytical solution. We could have found this out by either using a sharp pencil and doing the convolution integral by hand, or by looking it up in a table (much easier).**\n",
    "\n",
    "**Having an analytic answer is much nicer when they exist, so it is always good to look and see if it exists. Further, sums and averages are only some of the mathematical operations that we can perform. In this section we will do an internet scavenger hunt to find the analytic pdf for some interesting distributions.**\n",
    "\n",
    "**2a) What is the pdf of the sum of two identical exponential distributions?**\n",
    "\n",
    "**2b) What is the pdf of the ratio of two zero-mean unity variance normal distributions  X1/X2 ?**\n",
    "\n",
    "**2c) So far we have looked at 1D probability distributions, but it is possible to have a multi-dimensional vector distribution. A simple first introduction is the 2D Guassian; it looks like a smeared spot. Mathematically this is given by  Xi^+Yj^  where both  X  and  Y  are drawn from 1D Gaussian distributions. If I measure the amplitude of this vector, what is its pdf? (Hint, the amplitude is always positive.)**"
   ]
  },
  {
   "cell_type": "markdown",
   "metadata": {},
   "source": [
    "Answer Part 2a): <br/>\n",
    "[Exponential Distribution Wiki](https://en.wikipedia.org/wiki/Exponential_distribution#Sum_of_two_independent_exponential_random_variables)\n",
    "<br/>\n",
    "<br/>\n",
    "The Wikipedia page for the Exponential Distribution has a section about the sum of two independent exponential distributions, which is linked above. At the very bottom of the section it states that if the exponential distributions are the same, the sum of the produces an Erlang distribution, which is a special case of the Gamma distribution. The shape of the Erlang distribution looks similar to a Gaussian distribution with a positive skew."
   ]
  },
  {
   "cell_type": "markdown",
   "metadata": {},
   "source": [
    "Answer Part 2b): <br/>\n",
    "[Normal Ratio Distribution Documentation](https://mathworld.wolfram.com/NormalRatioDistribution.html)\n",
    "<br/>\n",
    "<br/>\n",
    "This documentation tells us that a normal ratio distribution of two independent variables with their mean equal to zero is also known as a Cauchy, or Lorentzian, distribution, which looks like a normal distribution but the peak is 'sharp' rather than round, and with more concave tails."
   ]
  },
  {
   "cell_type": "markdown",
   "metadata": {},
   "source": [
    "Answer Part 2c): <br/>\n",
    "[Multi-Dimensional Normal Distribution Wiki](https://en.wikipedia.org/wiki/Multivariate_normal_distribution).\n",
    "<br/>\n",
    "<br/>\n",
    "From this page, we can see the picture included at the top of the pdf for the multivariate normal distribution. The pdf this produces is a 2D histogram in the shape of an ellipse. If you convert this 2D histogram to 3D space, you would get the width of the X distribution on the X axis, the width of the Y distribution on the Y axis, and the probability on the Z axis.\n",
    "<br/>\n",
    "<br/>\n",
    "However, from [this page](https://en.wikipedia.org/wiki/Normal_distribution#Combination_of_two_independent_random_variables), we can see that if you take the amplitude of X and Y, in other words sqrt(X^2+Y^2), the resulting distribution would be a Rayleigh distribution. This is convenient because it takes a 2D distribution, and allows us to examine it as a 1D Rayleigh distribution."
   ]
  },
  {
   "cell_type": "code",
   "execution_count": null,
   "metadata": {},
   "outputs": [],
   "source": []
  }
 ],
 "metadata": {
  "kernelspec": {
   "display_name": "Python 3",
   "language": "python",
   "name": "python3"
  },
  "language_info": {
   "codemirror_mode": {
    "name": "ipython",
    "version": 3
   },
   "file_extension": ".py",
   "mimetype": "text/x-python",
   "name": "python",
   "nbconvert_exporter": "python",
   "pygments_lexer": "ipython3",
   "version": "3.7.4"
  }
 },
 "nbformat": 4,
 "nbformat_minor": 4
}
